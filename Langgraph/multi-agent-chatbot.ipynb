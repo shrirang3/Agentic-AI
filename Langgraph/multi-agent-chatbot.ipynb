{
 "cells": [
  {
   "cell_type": "code",
   "execution_count": 1,
   "id": "8d447c97",
   "metadata": {},
   "outputs": [],
   "source": [
    "#tools\n",
    "from langchain_community.tools import ArxivQueryRun, WikipediaQueryRun\n",
    "from langchain_community.utilities import WikipediaAPIWrapper, ArxivAPIWrapper"
   ]
  },
  {
   "cell_type": "code",
   "execution_count": 2,
   "id": "1054b28e",
   "metadata": {},
   "outputs": [
    {
     "name": "stdout",
     "output_type": "stream",
     "text": [
      "arxiv\n"
     ]
    }
   ],
   "source": [
    "api_wrapper_arxiv=ArxivAPIWrapper(top_k_results=2, doc_content_chars_max=500)\n",
    "arxiv=ArxivQueryRun(api_wrapper=api_wrapper_arxiv, description=\"Query Arxiv papers\")\n",
    "print(arxiv.name)"
   ]
  },
  {
   "cell_type": "code",
   "execution_count": 3,
   "id": "3ce22932",
   "metadata": {},
   "outputs": [
    {
     "data": {
      "text/plain": [
       "\"Published: 2024-07-22\\nTitle: Attention Is All You Need But You Don't Need All Of It For Inference of Large Language Models\\nAuthors: Georgy Tyukin, Gbetondji J-S Dovonon, Jean Kaddour, Pasquale Minervini\\nSummary: The inference demand for LLMs has skyrocketed in recent months, and serving\\nmodels with low latencies remains challenging due to the quadratic input length\\ncomplexity of the attention layers. In this work, we investigate the effect of\\ndropping MLP and attention layers at inference time o\""
      ]
     },
     "execution_count": 3,
     "metadata": {},
     "output_type": "execute_result"
    }
   ],
   "source": [
    "arxiv.invoke(\"Attention is all you need\")"
   ]
  },
  {
   "cell_type": "code",
   "execution_count": 4,
   "id": "a02e0e41",
   "metadata": {},
   "outputs": [
    {
     "name": "stdout",
     "output_type": "stream",
     "text": [
      "wikipedia\n"
     ]
    }
   ],
   "source": [
    "api_wrapper_wikipidea=WikipediaAPIWrapper(top_k_results=2, doc_content_chars_max=500)\n",
    "wiki=WikipediaQueryRun(api_wrapper=api_wrapper_wikipidea)\n",
    "print(wiki.name)"
   ]
  },
  {
   "cell_type": "code",
   "execution_count": 5,
   "id": "c6db5d95",
   "metadata": {},
   "outputs": [
    {
     "data": {
      "text/plain": [
       "'Page: Pedri\\nSummary: Pedro González López (born 25 November 2002), more commonly known as Pedri, is a Spanish professional footballer who plays as a midfielder for La Liga club Barcelona and the Spain national team. Pedri is known for his dribbling, playmaking, creativity, work rate, defensive contributions and exceptional vision and is considered one of the best players in the world.\\n\\nPage: 2024–25 La Liga\\nSummary: The 2024–25 La Liga, also known as La Liga EA Sports due to sponsorship reasons,'"
      ]
     },
     "execution_count": 5,
     "metadata": {},
     "output_type": "execute_result"
    }
   ],
   "source": [
    "wiki.invoke(\"Pedri Gonzalez\")"
   ]
  },
  {
   "cell_type": "code",
   "execution_count": 6,
   "id": "1728660a",
   "metadata": {},
   "outputs": [],
   "source": [
    "from dotenv import load_dotenv\n",
    "load_dotenv()\n",
    "import os   \n",
    "\n",
    "os.environ[\"TAVILY_API_KEY\"]=os.getenv(\"TAVILY_API_KEY\") #for internet search\n",
    "os.environ[\"GROQ_API_KEY\"]=os.getenv(\"GROQ_API_KEY\")"
   ]
  },
  {
   "cell_type": "code",
   "execution_count": 7,
   "id": "20156000",
   "metadata": {},
   "outputs": [],
   "source": [
    "from langchain_community.tools.tavily_search import TavilySearchResults #my tool 3 for internet search\n",
    "\n",
    "tavily=TavilySearchResults()"
   ]
  },
  {
   "cell_type": "code",
   "execution_count": 8,
   "id": "6c44d3b4",
   "metadata": {},
   "outputs": [
    {
     "data": {
      "text/plain": [
       "[{'url': 'https://www.nfl.com/news/',\n",
       "  'content': \"Latest NFL News\\n\\nLatest News\\n\\nChiefs QB Patrick Mahomes gets extra motivation, reason for haircut from Super Bowl loss\\n\\nApr 24, 2025\\n\\nCam Ward ready, raring to 'hopefully hear my name called first' by Titans\\n\\nApr 24, 2025\\n\\nBrowns HC Kevin Stefanski believes 'fisherman' Travis Hunter can succeed at CB/WR with ability 'of maximizing his day'\\n\\nApr 24, 2025\\n\\nTitans signing ex-Seahawks WR Tyler Lockett to one-year, $4 million contract\\n\\nApr 24, 2025 [...] NFL news roundup: Patrick Mahomes provides injury update on Chiefs WR Rashee Rice [...] Hall of Famer,Â\\xa0Bears legend Steve 'Mongo' McMichael dies at 67 following battle with ALS\\n\\nApr 23, 2025\\n\\nLions' Kerby Joseph becomes highest-paid safety with four-year, $86M extensionÂ\\n\\nApr 23, 2025\\n\\nPopular Series\\n\\nLatest Analysis\\n\\nLance Zierlein 2025 NFL mock draft 4.0: Colts trade up for Colston Loveland; Saints go get Jaxson Dart\\n\\nMock Drafts\\n\\nLance Zierlein 2025 NFL mock draft 4.0: Colts trade up for Colston Loveland; Saints go get Jaxson Dart\\n\\nNews Roundup\"},\n",
       " {'url': 'https://www.eurosport.com/football/',\n",
       "  'content': 'Get the latest football news headlines from the Premier League, Serie A, Bundesliga, Ligue 1, Champions League and more.'},\n",
       " {'url': 'https://sports.ndtv.com/football/news',\n",
       "  'content': \"AC Milan fans were given something to shout about in what has been an awful season for the seven-time European champions.\\n\\nLiverpool are on the brink of winning the Premier League title afterArsenalwere held to a 2-2 draw by Crystal Palace on Wednesday.\\n\\nInter Kashi knocked Bengaluru FC out of the Super Cup football tournament in penalty shootout after both sides were locked 1-1 in regulation time and booked a quarterfinal spot. [...] Football News\\n\\nLeicester captain Jamie Vardy will leave the former Premier League champions at the end of the season, the relegated club announced on Thursday.\\n\\nReal Madrid midfielder Eduardo Camavinga is set to miss the rest of the season after he was diagnosed with a groin injury on Thursday.\\n\\nThe brutal attack in Jammu and Kashmir's Pahalgam on Tuesday killed 26 civilians, mostly tourists and left many more injured. [...] Pope Francis died at his home in the Vatican on Monday aged 88 after suffering a stroke.\\n\\nRafael Nadal retired from the sport after his final match at the Davis Cup in Malaga in November last year.\\n\\nNottingham Forest came into the game at the Tottenham Hotspur Stadium in sixth spot in the table after losses to Aston Villa and Everton.\\n\\nThree successive defeats for Sheffield United in the season climax has seen Burnley and Leeds United achieve automatic promotion to the Premier League 2025/26.\"},\n",
       " {'url': 'https://www.nfl.com/news/all-news',\n",
       "  'content': \"Hall of Famer,Â\\xa0Bears legend Steve 'Mongo' McMichael dies at 67 following battle with ALS\\n\\nApr 23, 2025\\n\\nLions' Kerby Joseph becomes highest-paid safety with four-year, $86M extensionÂ\\n\\nApr 23, 2025\\n\\nNFL puts spotlight on flag football ahead of draft in Green Bay\\n\\nApr 23, 2025\\n\\nSaints GM Mickey Loomis waiting for 'clarity' on QB Derek Carr's shoulder, says draft plans unaffected\\n\\nApr 23, 2025\\n\\nNFL news roundup: Patrick Mahomes provides injury update on Chiefs WR Rashee Rice\\n\\nApr 23, 2025 [...] Colts' Anthony Richardson embracing QB battle vs. Daniel Jones: 'Competition, I love it'\\n\\nApr 23, 2025\\n\\nStephen Jones happy to take best player available as Cowboys did with CeeDee Lamb, Micah Parsons: 'Great things happen when you do things like that'\\n\\nApr 22, 2025\\n\\n2025 NFL Draft: Pro execs, scouts, coaches rank and evaluate the top 18 prospects in this QB class\\n\\nApr 22, 2025\\n\\nHamilton County, Bengals reach preliminary agreement on stadium improvements\\n\\nApr 22, 2025 [...] All News\\n\\nAll News\\n\\nChiefs QB Patrick Mahomes gets extra motivation, reason for haircut from Super Bowl loss\\n\\nApr 24, 2025\\n\\nKansas City Chiefs quarterback Patrick Mahomes says he has some motivation after the Super Bowl loss to the Philadelphia Eagles.\\n\\nCam Ward ready, raring to 'hopefully hear my name called first' by Titans\\n\\nApr 24, 2025\\n\\nMiami QB prospect Cam Ward is ready for the 2025 NFL Draft and is hopeful to hear his named called by the Tennessee Titans.\"},\n",
       " {'url': 'https://www.cnn.com/sport/football',\n",
       "  'content': 'Latest football news from around the world, with features and interviews with the biggest stars of the English Premier League, Spanish La Liga,'}]"
      ]
     },
     "execution_count": 8,
     "metadata": {},
     "output_type": "execute_result"
    }
   ],
   "source": [
    "tavily.invoke(\"provide me recent football news\")"
   ]
  },
  {
   "cell_type": "code",
   "execution_count": 9,
   "id": "37c6d0af",
   "metadata": {},
   "outputs": [],
   "source": [
    "#write all tools in a list\n",
    "tools=[arxiv, wiki, tavily]"
   ]
  },
  {
   "cell_type": "code",
   "execution_count": 10,
   "id": "b7c1ca1e",
   "metadata": {},
   "outputs": [],
   "source": [
    "#Initializa LLM\n",
    "from langchain_groq import ChatGroq\n",
    "\n",
    "llm=ChatGroq(model=\"qwen-qwq-32b\")\n"
   ]
  },
  {
   "cell_type": "code",
   "execution_count": 11,
   "id": "ef1c8b6e",
   "metadata": {},
   "outputs": [
    {
     "data": {
      "text/plain": [
       "AIMessage(content=\"\\n<think>\\nOkay, the user is asking for the capital of France. Let me think. I remember that France is a country in Europe. The capital cities of countries are usually their most important cities, often where the government is based.\\n\\nWait, Paris comes to mind. Isn't Paris the capital? But I should make sure I'm not mixing it up with another country. Let me recall some basic geography. France, along with countries like Spain, Italy, Germany, and the UK, are part of Western Europe. Spain's capital is Madrid, Italy's Rome, Germany's Berlin, and the UK's London. So that's different. \\n\\nI think Paris is the capital of France. But I want to be certain. Maybe I can think of landmarks associated with France. The Eiffel Tower is in Paris, and the Louvre Museum too. Those are major attractions, so it's likely the capital. \\n\\nAlternatively, could it be Lyon or Marseille? Lyon is a big city, but I don't think it's the capital. Marseille is a major port city but again, not the capital. \\n\\nAnother angle: the French government's seat. The President of France works in Paris, right? The Élysée Palace is in Paris. The National Assembly and Senate meet there as well. That reinforces the idea that Paris is indeed the capital. \\n\\nWait, in history, when has the capital been different? During wars or invasions? For example, during World War II, the government was in Vichy for a time, but that's a temporary situation. The official capital remained Paris. \\n\\nAlso, in terms of international recognition, all sources point to Paris as the capital. I don't recall any recent changes to the capital of France. So I can confidently say that the answer is Paris. \\n\\nJust to double-check in case of any confusion with similar-sounding names or common misconceptions. Sometimes people might confuse capitals, like thinking the capital of Italy is Milan instead of Rome, but in France's case, there's no major confusion I'm aware of. \\n\\nTherefore, the capital of France is Paris.\\n</think>\\n\\nThe capital of France is **Paris**. It is the country's political, cultural, and economic center, home to iconic landmarks such as the Eiffel Tower, the Louvre Museum, and the seat of the French government.\", additional_kwargs={}, response_metadata={'token_usage': {'completion_tokens': 478, 'prompt_tokens': 17, 'total_tokens': 495, 'completion_time': 1.211133387, 'prompt_time': 0.005687998, 'queue_time': 1.239477961, 'total_time': 1.216821385}, 'model_name': 'qwen-qwq-32b', 'system_fingerprint': 'fp_fbb7e6cc39', 'finish_reason': 'stop', 'logprobs': None}, id='run-c4442726-1638-444a-8b74-6e9fc798f98a-0', usage_metadata={'input_tokens': 17, 'output_tokens': 478, 'total_tokens': 495})"
      ]
     },
     "execution_count": 11,
     "metadata": {},
     "output_type": "execute_result"
    }
   ],
   "source": [
    "llm.invoke(\"What is the capital of France?\") #test LLM"
   ]
  },
  {
   "cell_type": "code",
   "execution_count": 12,
   "id": "28a75101",
   "metadata": {},
   "outputs": [],
   "source": [
    "llm_with_tools=llm.bind_tools(tools=tools) #bind tools to LLM"
   ]
  },
  {
   "cell_type": "code",
   "execution_count": 13,
   "id": "a0d91a6f",
   "metadata": {},
   "outputs": [
    {
     "data": {
      "text/plain": [
       "AIMessage(content='', additional_kwargs={'tool_calls': [{'id': 'call_a7y6', 'function': {'arguments': '{\"query\": \"latest football news\"}', 'name': 'tavily_search_results_json'}, 'type': 'function'}]}, response_metadata={'token_usage': {'completion_tokens': 197, 'prompt_tokens': 353, 'total_tokens': 550, 'completion_time': 0.492764847, 'prompt_time': 0.089486594, 'queue_time': 0.318479826, 'total_time': 0.582251441}, 'model_name': 'qwen-qwq-32b', 'system_fingerprint': 'fp_3796682456', 'finish_reason': 'tool_calls', 'logprobs': None}, id='run-0db3411f-dbb2-40f5-b120-cd0d9091e6f5-0', tool_calls=[{'name': 'tavily_search_results_json', 'args': {'query': 'latest football news'}, 'id': 'call_a7y6', 'type': 'tool_call'}], usage_metadata={'input_tokens': 353, 'output_tokens': 197, 'total_tokens': 550})"
      ]
     },
     "execution_count": 13,
     "metadata": {},
     "output_type": "execute_result"
    }
   ],
   "source": [
    "llm_with_tools.invoke(\"What is Recent Football news\") #test LLM with tools\n"
   ]
  },
  {
   "cell_type": "code",
   "execution_count": 14,
   "id": "31a52df3",
   "metadata": {},
   "outputs": [
    {
     "data": {
      "text/plain": [
       "AIMessage(content='', additional_kwargs={'tool_calls': [{'id': 'call_rrm0', 'function': {'arguments': '{\"query\": \"quantum computing\"}', 'name': 'arxiv'}, 'type': 'function'}]}, response_metadata={'token_usage': {'completion_tokens': 251, 'prompt_tokens': 356, 'total_tokens': 607, 'completion_time': 0.610775662, 'prompt_time': 0.049087708, 'queue_time': 1.456974137, 'total_time': 0.65986337}, 'model_name': 'qwen-qwq-32b', 'system_fingerprint': 'fp_a91d9c2cfb', 'finish_reason': 'tool_calls', 'logprobs': None}, id='run-ae894770-b263-4528-9851-80cf69162e95-0', tool_calls=[{'name': 'arxiv', 'args': {'query': 'quantum computing'}, 'id': 'call_rrm0', 'type': 'tool_call'}], usage_metadata={'input_tokens': 356, 'output_tokens': 251, 'total_tokens': 607})"
      ]
     },
     "execution_count": 14,
     "metadata": {},
     "output_type": "execute_result"
    }
   ],
   "source": [
    "llm_with_tools.invoke(\"What is research paper on quantum comuting\") #test LLM with tools"
   ]
  },
  {
   "cell_type": "code",
   "execution_count": 15,
   "id": "34bf99ee",
   "metadata": {},
   "outputs": [
    {
     "data": {
      "text/plain": [
       "AIMessage(content='', additional_kwargs={'tool_calls': [{'id': 'call_qc08', 'function': {'arguments': '{\"query\": \"Machine learning\"}', 'name': 'wikipedia'}, 'type': 'function'}]}, response_metadata={'token_usage': {'completion_tokens': 165, 'prompt_tokens': 352, 'total_tokens': 517, 'completion_time': 0.408492976, 'prompt_time': 0.060557419, 'queue_time': 1.895968744, 'total_time': 0.469050395}, 'model_name': 'qwen-qwq-32b', 'system_fingerprint': 'fp_3796682456', 'finish_reason': 'tool_calls', 'logprobs': None}, id='run-5402fdc1-8fb1-4764-a0e3-dc9a0389de58-0', tool_calls=[{'name': 'wikipedia', 'args': {'query': 'Machine learning'}, 'id': 'call_qc08', 'type': 'tool_call'}], usage_metadata={'input_tokens': 352, 'output_tokens': 165, 'total_tokens': 517})"
      ]
     },
     "execution_count": 15,
     "metadata": {},
     "output_type": "execute_result"
    }
   ],
   "source": [
    "llm_with_tools.invoke(\"What is machine learning\") #test LLM with tools"
   ]
  },
  {
   "cell_type": "markdown",
   "id": "8d845147",
   "metadata": {},
   "source": [
    "**Here we do not get answer=>But we get which tool must be used**"
   ]
  },
  {
   "cell_type": "markdown",
   "id": "57c719a4",
   "metadata": {},
   "source": [
    "**Workflow for langgraph architecture**\n"
   ]
  },
  {
   "cell_type": "code",
   "execution_count": null,
   "id": "e06f22b9",
   "metadata": {},
   "outputs": [],
   "source": [
    "## State Schema\n",
    "from typing_extensions import TypedDict\n",
    "from langchain_core.messages import AnyMessage ##human message or AI message\n",
    "from typing import Annotated\n",
    "from langgraph.graph.message import add_messages ## appends messages in variable"
   ]
  },
  {
   "cell_type": "code",
   "execution_count": 18,
   "id": "e926646f",
   "metadata": {},
   "outputs": [],
   "source": [
    "class State(TypedDict):\n",
    "    messages:Annotated[list[AnyMessage], add_messages]"
   ]
  },
  {
   "cell_type": "code",
   "execution_count": 23,
   "id": "764da5fd",
   "metadata": {},
   "outputs": [],
   "source": [
    "from IPython.display import Image, display\n",
    "from langgraph.graph import StateGraph, START, END\n",
    "from langgraph.prebuilt import ToolNode\n",
    "from langgraph.prebuilt import tools_condition ##conditions on which path to take when using/not using a tool"
   ]
  },
  {
   "cell_type": "code",
   "execution_count": null,
   "id": "b3a066ff",
   "metadata": {},
   "outputs": [],
   "source": [
    "##Node definition\n",
    "def tool_calling_llm(state:State):\n",
    "    return {\"messages\":[llm_with_tools.invoke(state[\"messages\"])]}\n",
    "\n",
    "#Build Graph\n",
    "builder=StateGraph(State)\n",
    "builder.add_node(\"tool_calling_llm\", tool_calling_llm)\n",
    "builder.add_node(\"tools\", ToolNode(tools))\n",
    "\n",
    "#Edges\n",
    "builder.add_edge(START, \"tool_calling_llm\")\n",
    "builder.add_conditional_edges(\"tool_calling_llm\",\n",
    "                              #If the latest message(result) from assistant is a tool call=>tool_condition routes to tools\n",
    "                              #If latest message(result) from assistant is not a tool=>tool_consition rotes to END\n",
    "                              tools_condition,\n",
    "                              )\n",
    "\n",
    "builder.add_edge(\"tools\", END)\n",
    "\n",
    "graph=builder.compile()"
   ]
  },
  {
   "cell_type": "code",
   "execution_count": 46,
   "id": "34845beb",
   "metadata": {},
   "outputs": [
    {
     "name": "stdout",
     "output_type": "stream",
     "text": [
      "================================\u001b[1m Human Message \u001b[0m=================================\n",
      "\n",
      "1706.03762\n",
      "==================================\u001b[1m Ai Message \u001b[0m==================================\n",
      "Tool Calls:\n",
      "  arxiv (call_asx3)\n",
      " Call ID: call_asx3\n",
      "  Args:\n",
      "    query: 1706.03762\n",
      "=================================\u001b[1m Tool Message \u001b[0m=================================\n",
      "Name: arxiv\n",
      "\n",
      "Published: 2023-08-02\n",
      "Title: Attention Is All You Need\n",
      "Authors: Ashish Vaswani, Noam Shazeer, Niki Parmar, Jakob Uszkoreit, Llion Jones, Aidan N. Gomez, Lukasz Kaiser, Illia Polosukhin\n",
      "Summary: The dominant sequence transduction models are based on complex recurrent or\n",
      "convolutional neural networks in an encoder-decoder configuration. The best\n",
      "performing models also connect the encoder and decoder through an attention\n",
      "mechanism. We propose a new simple network architecture, the Transformer, base\n"
     ]
    }
   ],
   "source": [
    "messages=graph.invoke({\"messages\":\"1706.03762\"})\n",
    "for m in messages['messages']:\n",
    "    m.pretty_print()"
   ]
  },
  {
   "cell_type": "code",
   "execution_count": 47,
   "id": "59390a6e",
   "metadata": {},
   "outputs": [
    {
     "name": "stdout",
     "output_type": "stream",
     "text": [
      "================================\u001b[1m Human Message \u001b[0m=================================\n",
      "\n",
      "Hi, Call me as Pedri from now on!!\n",
      "==================================\u001b[1m Ai Message \u001b[0m==================================\n",
      "\n",
      "Sure, I'll call you Pedri from now on! How can I assist you today, Pedri?\n"
     ]
    }
   ],
   "source": [
    "messages=graph.invoke({\"messages\":\"Hi, Call me as Pedri from now on!!\"})\n",
    "for m in messages['messages']:\n",
    "    m.pretty_print()"
   ]
  },
  {
   "cell_type": "code",
   "execution_count": null,
   "id": "ed3c5636",
   "metadata": {},
   "outputs": [],
   "source": []
  }
 ],
 "metadata": {
  "kernelspec": {
   "display_name": "Python 3",
   "language": "python",
   "name": "python3"
  },
  "language_info": {
   "codemirror_mode": {
    "name": "ipython",
    "version": 3
   },
   "file_extension": ".py",
   "mimetype": "text/x-python",
   "name": "python",
   "nbconvert_exporter": "python",
   "pygments_lexer": "ipython3",
   "version": "3.9.20"
  }
 },
 "nbformat": 4,
 "nbformat_minor": 5
}
